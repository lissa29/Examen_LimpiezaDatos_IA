{
 "cells": [
  {
   "cell_type": "code",
   "execution_count": 2,
   "id": "93e2ef59-5867-4a32-97a7-a82dbd0529ec",
   "metadata": {},
   "outputs": [],
   "source": [
    "import pandas as pd\n",
    "import numpy as np\n",
    "\n",
    "import matplotlib.pyplot as plt\n",
    "import seaborn as sns"
   ]
  },
  {
   "cell_type": "code",
   "execution_count": 3,
   "id": "b7ccadce-063d-4f51-94fb-892ef74738f7",
   "metadata": {},
   "outputs": [],
   "source": [
    "df = pd.read_csv(\"BankChurners.csv\")"
   ]
  },
  {
   "cell_type": "code",
   "execution_count": 4,
   "id": "d2d5a772-2197-48c8-9509-1205d06a5d54",
   "metadata": {},
   "outputs": [
    {
     "data": {
      "text/html": [
       "<div>\n",
       "<style scoped>\n",
       "    .dataframe tbody tr th:only-of-type {\n",
       "        vertical-align: middle;\n",
       "    }\n",
       "\n",
       "    .dataframe tbody tr th {\n",
       "        vertical-align: top;\n",
       "    }\n",
       "\n",
       "    .dataframe thead th {\n",
       "        text-align: right;\n",
       "    }\n",
       "</style>\n",
       "<table border=\"1\" class=\"dataframe\">\n",
       "  <thead>\n",
       "    <tr style=\"text-align: right;\">\n",
       "      <th></th>\n",
       "      <th>CLIENTNUM</th>\n",
       "      <th>Attrition_Flag</th>\n",
       "      <th>Customer_Age</th>\n",
       "      <th>Gender</th>\n",
       "      <th>Dependent_count</th>\n",
       "      <th>Education_Level</th>\n",
       "      <th>Marital_Status</th>\n",
       "      <th>Income_Category</th>\n",
       "      <th>Card_Category</th>\n",
       "      <th>Months_on_book</th>\n",
       "      <th>...</th>\n",
       "      <th>Credit_Limit</th>\n",
       "      <th>Total_Revolving_Bal</th>\n",
       "      <th>Avg_Open_To_Buy</th>\n",
       "      <th>Total_Amt_Chng_Q4_Q1</th>\n",
       "      <th>Total_Trans_Amt</th>\n",
       "      <th>Total_Trans_Ct</th>\n",
       "      <th>Total_Ct_Chng_Q4_Q1</th>\n",
       "      <th>Avg_Utilization_Ratio</th>\n",
       "      <th>Naive_Bayes_Classifier_Attrition_Flag_Card_Category_Contacts_Count_12_mon_Dependent_count_Education_Level_Months_Inactive_12_mon_1</th>\n",
       "      <th>Naive_Bayes_Classifier_Attrition_Flag_Card_Category_Contacts_Count_12_mon_Dependent_count_Education_Level_Months_Inactive_12_mon_2</th>\n",
       "    </tr>\n",
       "  </thead>\n",
       "  <tbody>\n",
       "    <tr>\n",
       "      <th>0</th>\n",
       "      <td>768805383</td>\n",
       "      <td>Existing Customer</td>\n",
       "      <td>45</td>\n",
       "      <td>M</td>\n",
       "      <td>3</td>\n",
       "      <td>High School</td>\n",
       "      <td>Married</td>\n",
       "      <td>$60K - $80K</td>\n",
       "      <td>Blue</td>\n",
       "      <td>39</td>\n",
       "      <td>...</td>\n",
       "      <td>12691.0</td>\n",
       "      <td>777</td>\n",
       "      <td>11914.0</td>\n",
       "      <td>1.335</td>\n",
       "      <td>1144</td>\n",
       "      <td>42</td>\n",
       "      <td>1.625</td>\n",
       "      <td>0.061</td>\n",
       "      <td>0.000093</td>\n",
       "      <td>0.999910</td>\n",
       "    </tr>\n",
       "    <tr>\n",
       "      <th>1</th>\n",
       "      <td>818770008</td>\n",
       "      <td>Existing Customer</td>\n",
       "      <td>49</td>\n",
       "      <td>F</td>\n",
       "      <td>5</td>\n",
       "      <td>Graduate</td>\n",
       "      <td>Single</td>\n",
       "      <td>Less than $40K</td>\n",
       "      <td>Blue</td>\n",
       "      <td>44</td>\n",
       "      <td>...</td>\n",
       "      <td>8256.0</td>\n",
       "      <td>864</td>\n",
       "      <td>7392.0</td>\n",
       "      <td>1.541</td>\n",
       "      <td>1291</td>\n",
       "      <td>33</td>\n",
       "      <td>3.714</td>\n",
       "      <td>0.105</td>\n",
       "      <td>0.000057</td>\n",
       "      <td>0.999940</td>\n",
       "    </tr>\n",
       "    <tr>\n",
       "      <th>2</th>\n",
       "      <td>713982108</td>\n",
       "      <td>Existing Customer</td>\n",
       "      <td>51</td>\n",
       "      <td>M</td>\n",
       "      <td>3</td>\n",
       "      <td>Graduate</td>\n",
       "      <td>Married</td>\n",
       "      <td>$80K - $120K</td>\n",
       "      <td>Blue</td>\n",
       "      <td>36</td>\n",
       "      <td>...</td>\n",
       "      <td>3418.0</td>\n",
       "      <td>0</td>\n",
       "      <td>3418.0</td>\n",
       "      <td>2.594</td>\n",
       "      <td>1887</td>\n",
       "      <td>20</td>\n",
       "      <td>2.333</td>\n",
       "      <td>0.000</td>\n",
       "      <td>0.000021</td>\n",
       "      <td>0.999980</td>\n",
       "    </tr>\n",
       "    <tr>\n",
       "      <th>3</th>\n",
       "      <td>769911858</td>\n",
       "      <td>Existing Customer</td>\n",
       "      <td>40</td>\n",
       "      <td>F</td>\n",
       "      <td>4</td>\n",
       "      <td>High School</td>\n",
       "      <td>Unknown</td>\n",
       "      <td>Less than $40K</td>\n",
       "      <td>Blue</td>\n",
       "      <td>34</td>\n",
       "      <td>...</td>\n",
       "      <td>3313.0</td>\n",
       "      <td>2517</td>\n",
       "      <td>796.0</td>\n",
       "      <td>1.405</td>\n",
       "      <td>1171</td>\n",
       "      <td>20</td>\n",
       "      <td>2.333</td>\n",
       "      <td>0.760</td>\n",
       "      <td>0.000134</td>\n",
       "      <td>0.999870</td>\n",
       "    </tr>\n",
       "    <tr>\n",
       "      <th>4</th>\n",
       "      <td>709106358</td>\n",
       "      <td>Existing Customer</td>\n",
       "      <td>40</td>\n",
       "      <td>M</td>\n",
       "      <td>3</td>\n",
       "      <td>Uneducated</td>\n",
       "      <td>Married</td>\n",
       "      <td>$60K - $80K</td>\n",
       "      <td>Blue</td>\n",
       "      <td>21</td>\n",
       "      <td>...</td>\n",
       "      <td>4716.0</td>\n",
       "      <td>0</td>\n",
       "      <td>4716.0</td>\n",
       "      <td>2.175</td>\n",
       "      <td>816</td>\n",
       "      <td>28</td>\n",
       "      <td>2.500</td>\n",
       "      <td>0.000</td>\n",
       "      <td>0.000022</td>\n",
       "      <td>0.999980</td>\n",
       "    </tr>\n",
       "    <tr>\n",
       "      <th>...</th>\n",
       "      <td>...</td>\n",
       "      <td>...</td>\n",
       "      <td>...</td>\n",
       "      <td>...</td>\n",
       "      <td>...</td>\n",
       "      <td>...</td>\n",
       "      <td>...</td>\n",
       "      <td>...</td>\n",
       "      <td>...</td>\n",
       "      <td>...</td>\n",
       "      <td>...</td>\n",
       "      <td>...</td>\n",
       "      <td>...</td>\n",
       "      <td>...</td>\n",
       "      <td>...</td>\n",
       "      <td>...</td>\n",
       "      <td>...</td>\n",
       "      <td>...</td>\n",
       "      <td>...</td>\n",
       "      <td>...</td>\n",
       "      <td>...</td>\n",
       "    </tr>\n",
       "    <tr>\n",
       "      <th>10122</th>\n",
       "      <td>772366833</td>\n",
       "      <td>Existing Customer</td>\n",
       "      <td>50</td>\n",
       "      <td>M</td>\n",
       "      <td>2</td>\n",
       "      <td>Graduate</td>\n",
       "      <td>Single</td>\n",
       "      <td>$40K - $60K</td>\n",
       "      <td>Blue</td>\n",
       "      <td>40</td>\n",
       "      <td>...</td>\n",
       "      <td>4003.0</td>\n",
       "      <td>1851</td>\n",
       "      <td>2152.0</td>\n",
       "      <td>0.703</td>\n",
       "      <td>15476</td>\n",
       "      <td>117</td>\n",
       "      <td>0.857</td>\n",
       "      <td>0.462</td>\n",
       "      <td>0.000191</td>\n",
       "      <td>0.999810</td>\n",
       "    </tr>\n",
       "    <tr>\n",
       "      <th>10123</th>\n",
       "      <td>710638233</td>\n",
       "      <td>Attrited Customer</td>\n",
       "      <td>41</td>\n",
       "      <td>M</td>\n",
       "      <td>2</td>\n",
       "      <td>Unknown</td>\n",
       "      <td>Divorced</td>\n",
       "      <td>$40K - $60K</td>\n",
       "      <td>Blue</td>\n",
       "      <td>25</td>\n",
       "      <td>...</td>\n",
       "      <td>4277.0</td>\n",
       "      <td>2186</td>\n",
       "      <td>2091.0</td>\n",
       "      <td>0.804</td>\n",
       "      <td>8764</td>\n",
       "      <td>69</td>\n",
       "      <td>0.683</td>\n",
       "      <td>0.511</td>\n",
       "      <td>0.995270</td>\n",
       "      <td>0.004729</td>\n",
       "    </tr>\n",
       "    <tr>\n",
       "      <th>10124</th>\n",
       "      <td>716506083</td>\n",
       "      <td>Attrited Customer</td>\n",
       "      <td>44</td>\n",
       "      <td>F</td>\n",
       "      <td>1</td>\n",
       "      <td>High School</td>\n",
       "      <td>Married</td>\n",
       "      <td>Less than $40K</td>\n",
       "      <td>Blue</td>\n",
       "      <td>36</td>\n",
       "      <td>...</td>\n",
       "      <td>5409.0</td>\n",
       "      <td>0</td>\n",
       "      <td>5409.0</td>\n",
       "      <td>0.819</td>\n",
       "      <td>10291</td>\n",
       "      <td>60</td>\n",
       "      <td>0.818</td>\n",
       "      <td>0.000</td>\n",
       "      <td>0.997880</td>\n",
       "      <td>0.002118</td>\n",
       "    </tr>\n",
       "    <tr>\n",
       "      <th>10125</th>\n",
       "      <td>717406983</td>\n",
       "      <td>Attrited Customer</td>\n",
       "      <td>30</td>\n",
       "      <td>M</td>\n",
       "      <td>2</td>\n",
       "      <td>Graduate</td>\n",
       "      <td>Unknown</td>\n",
       "      <td>$40K - $60K</td>\n",
       "      <td>Blue</td>\n",
       "      <td>36</td>\n",
       "      <td>...</td>\n",
       "      <td>5281.0</td>\n",
       "      <td>0</td>\n",
       "      <td>5281.0</td>\n",
       "      <td>0.535</td>\n",
       "      <td>8395</td>\n",
       "      <td>62</td>\n",
       "      <td>0.722</td>\n",
       "      <td>0.000</td>\n",
       "      <td>0.996710</td>\n",
       "      <td>0.003294</td>\n",
       "    </tr>\n",
       "    <tr>\n",
       "      <th>10126</th>\n",
       "      <td>714337233</td>\n",
       "      <td>Attrited Customer</td>\n",
       "      <td>43</td>\n",
       "      <td>F</td>\n",
       "      <td>2</td>\n",
       "      <td>Graduate</td>\n",
       "      <td>Married</td>\n",
       "      <td>Less than $40K</td>\n",
       "      <td>Silver</td>\n",
       "      <td>25</td>\n",
       "      <td>...</td>\n",
       "      <td>10388.0</td>\n",
       "      <td>1961</td>\n",
       "      <td>8427.0</td>\n",
       "      <td>0.703</td>\n",
       "      <td>10294</td>\n",
       "      <td>61</td>\n",
       "      <td>0.649</td>\n",
       "      <td>0.189</td>\n",
       "      <td>0.996620</td>\n",
       "      <td>0.003377</td>\n",
       "    </tr>\n",
       "  </tbody>\n",
       "</table>\n",
       "<p>10127 rows × 23 columns</p>\n",
       "</div>"
      ],
      "text/plain": [
       "       CLIENTNUM     Attrition_Flag  Customer_Age Gender  Dependent_count  \\\n",
       "0      768805383  Existing Customer            45      M                3   \n",
       "1      818770008  Existing Customer            49      F                5   \n",
       "2      713982108  Existing Customer            51      M                3   \n",
       "3      769911858  Existing Customer            40      F                4   \n",
       "4      709106358  Existing Customer            40      M                3   \n",
       "...          ...                ...           ...    ...              ...   \n",
       "10122  772366833  Existing Customer            50      M                2   \n",
       "10123  710638233  Attrited Customer            41      M                2   \n",
       "10124  716506083  Attrited Customer            44      F                1   \n",
       "10125  717406983  Attrited Customer            30      M                2   \n",
       "10126  714337233  Attrited Customer            43      F                2   \n",
       "\n",
       "      Education_Level Marital_Status Income_Category Card_Category  \\\n",
       "0         High School        Married     $60K - $80K          Blue   \n",
       "1            Graduate         Single  Less than $40K          Blue   \n",
       "2            Graduate        Married    $80K - $120K          Blue   \n",
       "3         High School        Unknown  Less than $40K          Blue   \n",
       "4          Uneducated        Married     $60K - $80K          Blue   \n",
       "...               ...            ...             ...           ...   \n",
       "10122        Graduate         Single     $40K - $60K          Blue   \n",
       "10123         Unknown       Divorced     $40K - $60K          Blue   \n",
       "10124     High School        Married  Less than $40K          Blue   \n",
       "10125        Graduate        Unknown     $40K - $60K          Blue   \n",
       "10126        Graduate        Married  Less than $40K        Silver   \n",
       "\n",
       "       Months_on_book  ...  Credit_Limit  Total_Revolving_Bal  \\\n",
       "0                  39  ...       12691.0                  777   \n",
       "1                  44  ...        8256.0                  864   \n",
       "2                  36  ...        3418.0                    0   \n",
       "3                  34  ...        3313.0                 2517   \n",
       "4                  21  ...        4716.0                    0   \n",
       "...               ...  ...           ...                  ...   \n",
       "10122              40  ...        4003.0                 1851   \n",
       "10123              25  ...        4277.0                 2186   \n",
       "10124              36  ...        5409.0                    0   \n",
       "10125              36  ...        5281.0                    0   \n",
       "10126              25  ...       10388.0                 1961   \n",
       "\n",
       "       Avg_Open_To_Buy  Total_Amt_Chng_Q4_Q1  Total_Trans_Amt  Total_Trans_Ct  \\\n",
       "0              11914.0                 1.335             1144              42   \n",
       "1               7392.0                 1.541             1291              33   \n",
       "2               3418.0                 2.594             1887              20   \n",
       "3                796.0                 1.405             1171              20   \n",
       "4               4716.0                 2.175              816              28   \n",
       "...                ...                   ...              ...             ...   \n",
       "10122           2152.0                 0.703            15476             117   \n",
       "10123           2091.0                 0.804             8764              69   \n",
       "10124           5409.0                 0.819            10291              60   \n",
       "10125           5281.0                 0.535             8395              62   \n",
       "10126           8427.0                 0.703            10294              61   \n",
       "\n",
       "       Total_Ct_Chng_Q4_Q1  Avg_Utilization_Ratio  \\\n",
       "0                    1.625                  0.061   \n",
       "1                    3.714                  0.105   \n",
       "2                    2.333                  0.000   \n",
       "3                    2.333                  0.760   \n",
       "4                    2.500                  0.000   \n",
       "...                    ...                    ...   \n",
       "10122                0.857                  0.462   \n",
       "10123                0.683                  0.511   \n",
       "10124                0.818                  0.000   \n",
       "10125                0.722                  0.000   \n",
       "10126                0.649                  0.189   \n",
       "\n",
       "       Naive_Bayes_Classifier_Attrition_Flag_Card_Category_Contacts_Count_12_mon_Dependent_count_Education_Level_Months_Inactive_12_mon_1  \\\n",
       "0                                               0.000093                                                                                    \n",
       "1                                               0.000057                                                                                    \n",
       "2                                               0.000021                                                                                    \n",
       "3                                               0.000134                                                                                    \n",
       "4                                               0.000022                                                                                    \n",
       "...                                                  ...                                                                                    \n",
       "10122                                           0.000191                                                                                    \n",
       "10123                                           0.995270                                                                                    \n",
       "10124                                           0.997880                                                                                    \n",
       "10125                                           0.996710                                                                                    \n",
       "10126                                           0.996620                                                                                    \n",
       "\n",
       "       Naive_Bayes_Classifier_Attrition_Flag_Card_Category_Contacts_Count_12_mon_Dependent_count_Education_Level_Months_Inactive_12_mon_2  \n",
       "0                                               0.999910                                                                                   \n",
       "1                                               0.999940                                                                                   \n",
       "2                                               0.999980                                                                                   \n",
       "3                                               0.999870                                                                                   \n",
       "4                                               0.999980                                                                                   \n",
       "...                                                  ...                                                                                   \n",
       "10122                                           0.999810                                                                                   \n",
       "10123                                           0.004729                                                                                   \n",
       "10124                                           0.002118                                                                                   \n",
       "10125                                           0.003294                                                                                   \n",
       "10126                                           0.003377                                                                                   \n",
       "\n",
       "[10127 rows x 23 columns]"
      ]
     },
     "execution_count": 4,
     "metadata": {},
     "output_type": "execute_result"
    }
   ],
   "source": [
    "df"
   ]
  },
  {
   "cell_type": "code",
   "execution_count": 5,
   "id": "048e8cce-ca4d-47b5-a75a-2f57f70414b7",
   "metadata": {},
   "outputs": [
    {
     "data": {
      "text/plain": [
       "CLIENTNUM                                                                                                                             0\n",
       "Attrition_Flag                                                                                                                        0\n",
       "Customer_Age                                                                                                                          0\n",
       "Gender                                                                                                                                0\n",
       "Dependent_count                                                                                                                       0\n",
       "Education_Level                                                                                                                       0\n",
       "Marital_Status                                                                                                                        0\n",
       "Income_Category                                                                                                                       0\n",
       "Card_Category                                                                                                                         0\n",
       "Months_on_book                                                                                                                        0\n",
       "Total_Relationship_Count                                                                                                              0\n",
       "Months_Inactive_12_mon                                                                                                                0\n",
       "Contacts_Count_12_mon                                                                                                                 0\n",
       "Credit_Limit                                                                                                                          0\n",
       "Total_Revolving_Bal                                                                                                                   0\n",
       "Avg_Open_To_Buy                                                                                                                       0\n",
       "Total_Amt_Chng_Q4_Q1                                                                                                                  0\n",
       "Total_Trans_Amt                                                                                                                       0\n",
       "Total_Trans_Ct                                                                                                                        0\n",
       "Total_Ct_Chng_Q4_Q1                                                                                                                   0\n",
       "Avg_Utilization_Ratio                                                                                                                 0\n",
       "Naive_Bayes_Classifier_Attrition_Flag_Card_Category_Contacts_Count_12_mon_Dependent_count_Education_Level_Months_Inactive_12_mon_1    0\n",
       "Naive_Bayes_Classifier_Attrition_Flag_Card_Category_Contacts_Count_12_mon_Dependent_count_Education_Level_Months_Inactive_12_mon_2    0\n",
       "dtype: int64"
      ]
     },
     "execution_count": 5,
     "metadata": {},
     "output_type": "execute_result"
    }
   ],
   "source": [
    "df.isnull().sum()"
   ]
  },
  {
   "cell_type": "code",
   "execution_count": 6,
   "id": "cfcb2aa4-15e4-49d2-a10f-dbade6d6a7e6",
   "metadata": {},
   "outputs": [
    {
     "data": {
      "text/plain": [
       "Marital_Status\n",
       "Married           4687\n",
       "Single            3943\n",
       "Unknown            749\n",
       "Divorced           748\n",
       "dtype: int64"
      ]
     },
     "execution_count": 6,
     "metadata": {},
     "output_type": "execute_result"
    }
   ],
   "source": [
    "df.loc[:, [\"Marital_Status\"]].value_counts()"
   ]
  },
  {
   "cell_type": "code",
   "execution_count": 7,
   "id": "829c5414-c06b-4440-8118-da366029d219",
   "metadata": {},
   "outputs": [
    {
     "data": {
      "text/plain": [
       "Education_Level\n",
       "Graduate           3128\n",
       "High School        2013\n",
       "Unknown            1519\n",
       "Uneducated         1487\n",
       "College            1013\n",
       "Post-Graduate       516\n",
       "Doctorate           451\n",
       "dtype: int64"
      ]
     },
     "execution_count": 7,
     "metadata": {},
     "output_type": "execute_result"
    }
   ],
   "source": [
    "df.loc[:, [\"Education_Level\"]].value_counts()"
   ]
  },
  {
   "cell_type": "code",
   "execution_count": 8,
   "id": "7d760d1a-fdf3-485b-8557-35665f826d2a",
   "metadata": {},
   "outputs": [
    {
     "data": {
      "text/plain": [
       "Income_Category\n",
       "Less than $40K     3561\n",
       "$40K - $60K        1790\n",
       "$80K - $120K       1535\n",
       "$60K - $80K        1402\n",
       "Unknown            1112\n",
       "$120K +             727\n",
       "dtype: int64"
      ]
     },
     "execution_count": 8,
     "metadata": {},
     "output_type": "execute_result"
    }
   ],
   "source": [
    "df.loc[:, [\"Income_Category\"]].value_counts()"
   ]
  },
  {
   "cell_type": "code",
   "execution_count": 9,
   "id": "c3f787d6-c125-42f0-8df4-97d1b521c547",
   "metadata": {},
   "outputs": [
    {
     "data": {
      "text/html": [
       "<div>\n",
       "<style scoped>\n",
       "    .dataframe tbody tr th:only-of-type {\n",
       "        vertical-align: middle;\n",
       "    }\n",
       "\n",
       "    .dataframe tbody tr th {\n",
       "        vertical-align: top;\n",
       "    }\n",
       "\n",
       "    .dataframe thead th {\n",
       "        text-align: right;\n",
       "    }\n",
       "</style>\n",
       "<table border=\"1\" class=\"dataframe\">\n",
       "  <thead>\n",
       "    <tr style=\"text-align: right;\">\n",
       "      <th></th>\n",
       "      <th>Attrition_Flag</th>\n",
       "      <th>Customer_Age</th>\n",
       "      <th>Gender</th>\n",
       "      <th>Dependent_count</th>\n",
       "      <th>Education_Level</th>\n",
       "      <th>Marital_Status</th>\n",
       "      <th>Income_Category</th>\n",
       "      <th>Card_Category</th>\n",
       "      <th>Months_on_book</th>\n",
       "      <th>Total_Relationship_Count</th>\n",
       "      <th>Months_Inactive_12_mon</th>\n",
       "      <th>Contacts_Count_12_mon</th>\n",
       "      <th>Credit_Limit</th>\n",
       "      <th>Total_Revolving_Bal</th>\n",
       "      <th>Avg_Open_To_Buy</th>\n",
       "      <th>Total_Amt_Chng_Q4_Q1</th>\n",
       "      <th>Total_Trans_Amt</th>\n",
       "      <th>Total_Trans_Ct</th>\n",
       "      <th>Total_Ct_Chng_Q4_Q1</th>\n",
       "      <th>Avg_Utilization_Ratio</th>\n",
       "    </tr>\n",
       "  </thead>\n",
       "  <tbody>\n",
       "    <tr>\n",
       "      <th>0</th>\n",
       "      <td>Existing Customer</td>\n",
       "      <td>45</td>\n",
       "      <td>M</td>\n",
       "      <td>3</td>\n",
       "      <td>High School</td>\n",
       "      <td>Married</td>\n",
       "      <td>$60K - $80K</td>\n",
       "      <td>Blue</td>\n",
       "      <td>39</td>\n",
       "      <td>5</td>\n",
       "      <td>1</td>\n",
       "      <td>3</td>\n",
       "      <td>12691.0</td>\n",
       "      <td>777</td>\n",
       "      <td>11914.0</td>\n",
       "      <td>1.335</td>\n",
       "      <td>1144</td>\n",
       "      <td>42</td>\n",
       "      <td>1.625</td>\n",
       "      <td>0.061</td>\n",
       "    </tr>\n",
       "    <tr>\n",
       "      <th>1</th>\n",
       "      <td>Existing Customer</td>\n",
       "      <td>49</td>\n",
       "      <td>F</td>\n",
       "      <td>5</td>\n",
       "      <td>Graduate</td>\n",
       "      <td>Single</td>\n",
       "      <td>Less than $40K</td>\n",
       "      <td>Blue</td>\n",
       "      <td>44</td>\n",
       "      <td>6</td>\n",
       "      <td>1</td>\n",
       "      <td>2</td>\n",
       "      <td>8256.0</td>\n",
       "      <td>864</td>\n",
       "      <td>7392.0</td>\n",
       "      <td>1.541</td>\n",
       "      <td>1291</td>\n",
       "      <td>33</td>\n",
       "      <td>3.714</td>\n",
       "      <td>0.105</td>\n",
       "    </tr>\n",
       "    <tr>\n",
       "      <th>2</th>\n",
       "      <td>Existing Customer</td>\n",
       "      <td>51</td>\n",
       "      <td>M</td>\n",
       "      <td>3</td>\n",
       "      <td>Graduate</td>\n",
       "      <td>Married</td>\n",
       "      <td>$80K - $120K</td>\n",
       "      <td>Blue</td>\n",
       "      <td>36</td>\n",
       "      <td>4</td>\n",
       "      <td>1</td>\n",
       "      <td>0</td>\n",
       "      <td>3418.0</td>\n",
       "      <td>0</td>\n",
       "      <td>3418.0</td>\n",
       "      <td>2.594</td>\n",
       "      <td>1887</td>\n",
       "      <td>20</td>\n",
       "      <td>2.333</td>\n",
       "      <td>0.000</td>\n",
       "    </tr>\n",
       "    <tr>\n",
       "      <th>3</th>\n",
       "      <td>Existing Customer</td>\n",
       "      <td>40</td>\n",
       "      <td>F</td>\n",
       "      <td>4</td>\n",
       "      <td>High School</td>\n",
       "      <td>Others</td>\n",
       "      <td>Less than $40K</td>\n",
       "      <td>Blue</td>\n",
       "      <td>34</td>\n",
       "      <td>3</td>\n",
       "      <td>4</td>\n",
       "      <td>1</td>\n",
       "      <td>3313.0</td>\n",
       "      <td>2517</td>\n",
       "      <td>796.0</td>\n",
       "      <td>1.405</td>\n",
       "      <td>1171</td>\n",
       "      <td>20</td>\n",
       "      <td>2.333</td>\n",
       "      <td>0.760</td>\n",
       "    </tr>\n",
       "    <tr>\n",
       "      <th>4</th>\n",
       "      <td>Existing Customer</td>\n",
       "      <td>40</td>\n",
       "      <td>M</td>\n",
       "      <td>3</td>\n",
       "      <td>Uneducated</td>\n",
       "      <td>Married</td>\n",
       "      <td>$60K - $80K</td>\n",
       "      <td>Blue</td>\n",
       "      <td>21</td>\n",
       "      <td>5</td>\n",
       "      <td>1</td>\n",
       "      <td>0</td>\n",
       "      <td>4716.0</td>\n",
       "      <td>0</td>\n",
       "      <td>4716.0</td>\n",
       "      <td>2.175</td>\n",
       "      <td>816</td>\n",
       "      <td>28</td>\n",
       "      <td>2.500</td>\n",
       "      <td>0.000</td>\n",
       "    </tr>\n",
       "    <tr>\n",
       "      <th>...</th>\n",
       "      <td>...</td>\n",
       "      <td>...</td>\n",
       "      <td>...</td>\n",
       "      <td>...</td>\n",
       "      <td>...</td>\n",
       "      <td>...</td>\n",
       "      <td>...</td>\n",
       "      <td>...</td>\n",
       "      <td>...</td>\n",
       "      <td>...</td>\n",
       "      <td>...</td>\n",
       "      <td>...</td>\n",
       "      <td>...</td>\n",
       "      <td>...</td>\n",
       "      <td>...</td>\n",
       "      <td>...</td>\n",
       "      <td>...</td>\n",
       "      <td>...</td>\n",
       "      <td>...</td>\n",
       "      <td>...</td>\n",
       "    </tr>\n",
       "    <tr>\n",
       "      <th>10122</th>\n",
       "      <td>Existing Customer</td>\n",
       "      <td>50</td>\n",
       "      <td>M</td>\n",
       "      <td>2</td>\n",
       "      <td>Graduate</td>\n",
       "      <td>Single</td>\n",
       "      <td>$40K - $60K</td>\n",
       "      <td>Blue</td>\n",
       "      <td>40</td>\n",
       "      <td>3</td>\n",
       "      <td>2</td>\n",
       "      <td>3</td>\n",
       "      <td>4003.0</td>\n",
       "      <td>1851</td>\n",
       "      <td>2152.0</td>\n",
       "      <td>0.703</td>\n",
       "      <td>15476</td>\n",
       "      <td>117</td>\n",
       "      <td>0.857</td>\n",
       "      <td>0.462</td>\n",
       "    </tr>\n",
       "    <tr>\n",
       "      <th>10123</th>\n",
       "      <td>Attrited Customer</td>\n",
       "      <td>41</td>\n",
       "      <td>M</td>\n",
       "      <td>2</td>\n",
       "      <td>Others</td>\n",
       "      <td>Divorced</td>\n",
       "      <td>$40K - $60K</td>\n",
       "      <td>Blue</td>\n",
       "      <td>25</td>\n",
       "      <td>4</td>\n",
       "      <td>2</td>\n",
       "      <td>3</td>\n",
       "      <td>4277.0</td>\n",
       "      <td>2186</td>\n",
       "      <td>2091.0</td>\n",
       "      <td>0.804</td>\n",
       "      <td>8764</td>\n",
       "      <td>69</td>\n",
       "      <td>0.683</td>\n",
       "      <td>0.511</td>\n",
       "    </tr>\n",
       "    <tr>\n",
       "      <th>10124</th>\n",
       "      <td>Attrited Customer</td>\n",
       "      <td>44</td>\n",
       "      <td>F</td>\n",
       "      <td>1</td>\n",
       "      <td>High School</td>\n",
       "      <td>Married</td>\n",
       "      <td>Less than $40K</td>\n",
       "      <td>Blue</td>\n",
       "      <td>36</td>\n",
       "      <td>5</td>\n",
       "      <td>3</td>\n",
       "      <td>4</td>\n",
       "      <td>5409.0</td>\n",
       "      <td>0</td>\n",
       "      <td>5409.0</td>\n",
       "      <td>0.819</td>\n",
       "      <td>10291</td>\n",
       "      <td>60</td>\n",
       "      <td>0.818</td>\n",
       "      <td>0.000</td>\n",
       "    </tr>\n",
       "    <tr>\n",
       "      <th>10125</th>\n",
       "      <td>Attrited Customer</td>\n",
       "      <td>30</td>\n",
       "      <td>M</td>\n",
       "      <td>2</td>\n",
       "      <td>Graduate</td>\n",
       "      <td>Others</td>\n",
       "      <td>$40K - $60K</td>\n",
       "      <td>Blue</td>\n",
       "      <td>36</td>\n",
       "      <td>4</td>\n",
       "      <td>3</td>\n",
       "      <td>3</td>\n",
       "      <td>5281.0</td>\n",
       "      <td>0</td>\n",
       "      <td>5281.0</td>\n",
       "      <td>0.535</td>\n",
       "      <td>8395</td>\n",
       "      <td>62</td>\n",
       "      <td>0.722</td>\n",
       "      <td>0.000</td>\n",
       "    </tr>\n",
       "    <tr>\n",
       "      <th>10126</th>\n",
       "      <td>Attrited Customer</td>\n",
       "      <td>43</td>\n",
       "      <td>F</td>\n",
       "      <td>2</td>\n",
       "      <td>Graduate</td>\n",
       "      <td>Married</td>\n",
       "      <td>Less than $40K</td>\n",
       "      <td>Silver</td>\n",
       "      <td>25</td>\n",
       "      <td>6</td>\n",
       "      <td>2</td>\n",
       "      <td>4</td>\n",
       "      <td>10388.0</td>\n",
       "      <td>1961</td>\n",
       "      <td>8427.0</td>\n",
       "      <td>0.703</td>\n",
       "      <td>10294</td>\n",
       "      <td>61</td>\n",
       "      <td>0.649</td>\n",
       "      <td>0.189</td>\n",
       "    </tr>\n",
       "  </tbody>\n",
       "</table>\n",
       "<p>10127 rows × 20 columns</p>\n",
       "</div>"
      ],
      "text/plain": [
       "          Attrition_Flag  Customer_Age Gender  Dependent_count  \\\n",
       "0      Existing Customer            45      M                3   \n",
       "1      Existing Customer            49      F                5   \n",
       "2      Existing Customer            51      M                3   \n",
       "3      Existing Customer            40      F                4   \n",
       "4      Existing Customer            40      M                3   \n",
       "...                  ...           ...    ...              ...   \n",
       "10122  Existing Customer            50      M                2   \n",
       "10123  Attrited Customer            41      M                2   \n",
       "10124  Attrited Customer            44      F                1   \n",
       "10125  Attrited Customer            30      M                2   \n",
       "10126  Attrited Customer            43      F                2   \n",
       "\n",
       "      Education_Level Marital_Status Income_Category Card_Category  \\\n",
       "0         High School        Married     $60K - $80K          Blue   \n",
       "1            Graduate         Single  Less than $40K          Blue   \n",
       "2            Graduate        Married    $80K - $120K          Blue   \n",
       "3         High School         Others  Less than $40K          Blue   \n",
       "4          Uneducated        Married     $60K - $80K          Blue   \n",
       "...               ...            ...             ...           ...   \n",
       "10122        Graduate         Single     $40K - $60K          Blue   \n",
       "10123          Others       Divorced     $40K - $60K          Blue   \n",
       "10124     High School        Married  Less than $40K          Blue   \n",
       "10125        Graduate         Others     $40K - $60K          Blue   \n",
       "10126        Graduate        Married  Less than $40K        Silver   \n",
       "\n",
       "       Months_on_book  Total_Relationship_Count  Months_Inactive_12_mon  \\\n",
       "0                  39                         5                       1   \n",
       "1                  44                         6                       1   \n",
       "2                  36                         4                       1   \n",
       "3                  34                         3                       4   \n",
       "4                  21                         5                       1   \n",
       "...               ...                       ...                     ...   \n",
       "10122              40                         3                       2   \n",
       "10123              25                         4                       2   \n",
       "10124              36                         5                       3   \n",
       "10125              36                         4                       3   \n",
       "10126              25                         6                       2   \n",
       "\n",
       "       Contacts_Count_12_mon  Credit_Limit  Total_Revolving_Bal  \\\n",
       "0                          3       12691.0                  777   \n",
       "1                          2        8256.0                  864   \n",
       "2                          0        3418.0                    0   \n",
       "3                          1        3313.0                 2517   \n",
       "4                          0        4716.0                    0   \n",
       "...                      ...           ...                  ...   \n",
       "10122                      3        4003.0                 1851   \n",
       "10123                      3        4277.0                 2186   \n",
       "10124                      4        5409.0                    0   \n",
       "10125                      3        5281.0                    0   \n",
       "10126                      4       10388.0                 1961   \n",
       "\n",
       "       Avg_Open_To_Buy  Total_Amt_Chng_Q4_Q1  Total_Trans_Amt  Total_Trans_Ct  \\\n",
       "0              11914.0                 1.335             1144              42   \n",
       "1               7392.0                 1.541             1291              33   \n",
       "2               3418.0                 2.594             1887              20   \n",
       "3                796.0                 1.405             1171              20   \n",
       "4               4716.0                 2.175              816              28   \n",
       "...                ...                   ...              ...             ...   \n",
       "10122           2152.0                 0.703            15476             117   \n",
       "10123           2091.0                 0.804             8764              69   \n",
       "10124           5409.0                 0.819            10291              60   \n",
       "10125           5281.0                 0.535             8395              62   \n",
       "10126           8427.0                 0.703            10294              61   \n",
       "\n",
       "       Total_Ct_Chng_Q4_Q1  Avg_Utilization_Ratio  \n",
       "0                    1.625                  0.061  \n",
       "1                    3.714                  0.105  \n",
       "2                    2.333                  0.000  \n",
       "3                    2.333                  0.760  \n",
       "4                    2.500                  0.000  \n",
       "...                    ...                    ...  \n",
       "10122                0.857                  0.462  \n",
       "10123                0.683                  0.511  \n",
       "10124                0.818                  0.000  \n",
       "10125                0.722                  0.000  \n",
       "10126                0.649                  0.189  \n",
       "\n",
       "[10127 rows x 20 columns]"
      ]
     },
     "execution_count": 9,
     "metadata": {},
     "output_type": "execute_result"
    }
   ],
   "source": [
    "###Para este caso se toma como valores nulos los \"unknown\" ya que estos no representan ningún valor en el dataset###\n",
    "dfrep= df.replace({\"Unknown\": \"Others\"})\n",
    "\n",
    "###Se elimina la columna CLIENTNUM porque se toma como unique key ###\n",
    "dfrep=dfrep.drop(['CLIENTNUM'], axis=1)\n",
    "## se eliminan las ultimas dos columnas ya que son innecesarias\n",
    "dfrep= dfrep.drop(dfrep.columns[-2:], axis=1)\n",
    "dfrep"
   ]
  },
  {
   "cell_type": "code",
   "execution_count": 10,
   "id": "043e3197-84b7-4aec-8f19-be30f593ab19",
   "metadata": {},
   "outputs": [
    {
     "data": {
      "text/plain": [
       "Avg_Open_To_Buy\n",
       "1438.3             0.031994\n",
       "34516.0            0.009677\n",
       "31999.0            0.002567\n",
       "787.0              0.000790\n",
       "713.0              0.000691\n",
       "                     ...   \n",
       "4911.0             0.000099\n",
       "4908.0             0.000099\n",
       "4904.0             0.000099\n",
       "4902.0             0.000099\n",
       "5597.0             0.000099\n",
       "Length: 6813, dtype: float64"
      ]
     },
     "execution_count": 10,
     "metadata": {},
     "output_type": "execute_result"
    }
   ],
   "source": [
    "dfrep.loc[:,[\"Avg_Open_To_Buy\"]].value_counts()/dfrep.shape[0]"
   ]
  },
  {
   "cell_type": "code",
   "execution_count": 11,
   "id": "cda5b52a-0889-4252-b115-5eec1e18fad1",
   "metadata": {},
   "outputs": [
    {
     "data": {
      "text/plain": [
       "Card_Category\n",
       "Blue             93.176656\n",
       "Silver            5.480399\n",
       "Gold              1.145453\n",
       "Platinum          0.197492\n",
       "dtype: float64"
      ]
     },
     "execution_count": 11,
     "metadata": {},
     "output_type": "execute_result"
    }
   ],
   "source": [
    "dfrep.loc[:,[\"Card_Category\"]].value_counts()/dfrep.shape[0]*100"
   ]
  },
  {
   "cell_type": "code",
   "execution_count": 12,
   "id": "c312f02f-7455-4620-918a-080dbb6a79e9",
   "metadata": {},
   "outputs": [
    {
     "data": {
      "text/plain": [
       "Gender\n",
       "F         49.945690\n",
       "M         44.327047\n",
       "dtype: float64"
      ]
     },
     "execution_count": 12,
     "metadata": {},
     "output_type": "execute_result"
    }
   ],
   "source": [
    "df_clean = dfrep.loc[ (dfrep[\"Card_Category\"] !=  \"Platinum\")&(dfrep[\"Card_Category\"] !=  \"Gold\")&(dfrep[\"Education_Level\"]!=\"Doctorate\")]\n",
    "df_clean.loc[:,[\"Gender\"]].value_counts()/dfrep.shape[0]*100"
   ]
  },
  {
   "cell_type": "code",
   "execution_count": 13,
   "id": "f34fd64f-5a9b-40a2-bd85-a1a3711815bd",
   "metadata": {},
   "outputs": [
    {
     "data": {
      "text/plain": [
       "{'whiskers': [<matplotlib.lines.Line2D at 0x7fa11d70a790>,\n",
       "  <matplotlib.lines.Line2D at 0x7fa11d70a9d0>],\n",
       " 'caps': [<matplotlib.lines.Line2D at 0x7fa11d70ad60>,\n",
       "  <matplotlib.lines.Line2D at 0x7fa11d70af70>],\n",
       " 'boxes': [<matplotlib.lines.Line2D at 0x7fa11d70a4c0>],\n",
       " 'medians': [<matplotlib.lines.Line2D at 0x7fa11d727280>],\n",
       " 'fliers': [<matplotlib.lines.Line2D at 0x7fa11d727550>],\n",
       " 'means': []}"
      ]
     },
     "execution_count": 13,
     "metadata": {},
     "output_type": "execute_result"
    },
    {
     "data": {
      "image/png": "[encoded data removed]",
      "text/plain": [
       "<Figure size 432x288 with 1 Axes>"
      ]
     },
     "metadata": {
      "needs_background": "light"
     },
     "output_type": "display_data"
    }
   ],
   "source": [
    "plt.boxplot(  df_clean.loc[ : , [\"Dependent_count\"] ].value_counts() )"
   ]
  },
  {
   "cell_type": "code",
   "execution_count": 14,
   "id": "2547e794-ff16-422d-93f6-a48988f0ae2b",
   "metadata": {},
   "outputs": [
    {
     "data": {
      "text/plain": [
       "<AxesSubplot:xlabel='Credit_Limit', ylabel='Avg_Open_To_Buy'>"
      ]
     },
     "execution_count": 14,
     "metadata": {},
     "output_type": "execute_result"
    },
    {
     "data": {
      "image/png": "[encoded data removed]",
      "text/plain": [
       "<Figure size 432x288 with 1 Axes>"
      ]
     },
     "metadata": {
      "needs_background": "light"
     },
     "output_type": "display_data"
    }
   ],
   "source": [
    "sns.boxplot(data=df_clean.loc[(df_clean[\"Card_Category\"]== \"Blue\")&(df_clean[\"Gender\"]== \"M\")&(df_clean[\"Marital_Status\"]== \"Married\")]  , x=\"Credit_Limit\" , y=\"Avg_Open_To_Buy\")"
   ]
  },
  {
   "cell_type": "code",
   "execution_count": 15,
   "id": "0354e966-976b-43f9-b330-e22d55a2d974",
   "metadata": {},
   "outputs": [
    {
     "data": {
      "text/plain": [
       "<AxesSubplot:xlabel='Months_on_book', ylabel='Credit_Limit'>"
      ]
     },
     "execution_count": 15,
     "metadata": {},
     "output_type": "execute_result"
    },
    {
     "data": {
      "image/png": "[encoded data removed]",
      "text/plain": [
       "<Figure size 432x288 with 1 Axes>"
      ]
     },
     "metadata": {
      "needs_background": "light"
     },
     "output_type": "display_data"
    }
   ],
   "source": [
    "sns.boxplot(data=dfrep.loc[(dfrep['Gender']=='M')& (dfrep['Income_Category']== 'Less than $40K')]  , x=\"Months_on_book\" , y=\"Credit_Limit\")"
   ]
  },
  {
   "cell_type": "code",
   "execution_count": 16,
   "id": "a7605ecb-5fce-4e3a-a25f-4090775d0206",
   "metadata": {},
   "outputs": [
    {
     "data": {
      "text/plain": [
       "{'whiskers': [<matplotlib.lines.Line2D at 0x7fa114295eb0>,\n",
       "  <matplotlib.lines.Line2D at 0x7fa1142a11c0>],\n",
       " 'caps': [<matplotlib.lines.Line2D at 0x7fa1142a1490>,\n",
       "  <matplotlib.lines.Line2D at 0x7fa1142a1760>],\n",
       " 'boxes': [<matplotlib.lines.Line2D at 0x7fa114295be0>],\n",
       " 'medians': [<matplotlib.lines.Line2D at 0x7fa1142a1a30>],\n",
       " 'fliers': [<matplotlib.lines.Line2D at 0x7fa1142a1d00>],\n",
       " 'means': []}"
      ]
     },
     "execution_count": 16,
     "metadata": {},
     "output_type": "execute_result"
    },
    {
     "data": {
      "image/png": "[encoded data removed]",
      "text/plain": [
       "<Figure size 432x288 with 1 Axes>"
      ]
     },
     "metadata": {
      "needs_background": "light"
     },
     "output_type": "display_data"
    }
   ],
   "source": [
    "Avg = df_clean.loc[ (df_clean['Card_Category'] == 'Blue') & (df_clean['Gender'] == 'M') & (df_clean['Marital_Status'] == 'Single') , ['Avg_Open_To_Buy'] ]\n",
    "plt.boxplot(Avg)"
   ]
  },
  {
   "cell_type": "code",
   "execution_count": 22,
   "id": "a5aea52c-754e-4478-890f-b335466d077d",
   "metadata": {},
   "outputs": [
    {
     "data": {
      "text/plain": [
       "6974.5"
      ]
     },
     "execution_count": 22,
     "metadata": {},
     "output_type": "execute_result"
    }
   ],
   "source": [
    "np.median(Avg)"
   ]
  },
  {
   "cell_type": "code",
   "execution_count": 23,
   "id": "3c58370a-03b1-4bd8-8ba4-32dda6260ebc",
   "metadata": {},
   "outputs": [
    {
     "data": {
      "text/plain": [
       "{'whiskers': [<matplotlib.lines.Line2D at 0x7fa113e75e80>,\n",
       "  <matplotlib.lines.Line2D at 0x7fa113e831c0>],\n",
       " 'caps': [<matplotlib.lines.Line2D at 0x7fa113e83490>,\n",
       "  <matplotlib.lines.Line2D at 0x7fa113e83760>],\n",
       " 'boxes': [<matplotlib.lines.Line2D at 0x7fa113e75d00>],\n",
       " 'medians': [<matplotlib.lines.Line2D at 0x7fa113e83a30>],\n",
       " 'fliers': [<matplotlib.lines.Line2D at 0x7fa113e83d00>],\n",
       " 'means': []}"
      ]
     },
     "execution_count": 23,
     "metadata": {},
     "output_type": "execute_result"
    },
    {
     "data": {
      "image/png": "[encoded data removed]",
      "text/plain": [
       "<Figure size 432x288 with 1 Axes>"
      ]
     },
     "metadata": {
      "needs_background": "light"
     },
     "output_type": "display_data"
    }
   ],
   "source": [
    "plt.boxplot(df_clean[\"Avg_Open_To_Buy\"])"
   ]
  },
  {
   "cell_type": "code",
   "execution_count": 24,
   "id": "e197f9b9-af23-40d6-ae87-d6eeb7ef6f03",
   "metadata": {},
   "outputs": [
    {
     "data": {
      "text/plain": [
       "<AxesSubplot:xlabel='Income_Category', ylabel='Avg_Open_To_Buy'>"
      ]
     },
     "execution_count": 24,
     "metadata": {},
     "output_type": "execute_result"
    },
    {
     "data": {
      "image/png": "[encoded data removed]",
      "text/plain": [
       "<Figure size 432x288 with 1 Axes>"
      ]
     },
     "metadata": {
      "needs_background": "light"
     },
     "output_type": "display_data"
    }
   ],
   "source": [
    "sns.boxplot(data=df_clean.loc[(df_clean[\"Card_Category\"]== \"Blue\")&(df_clean[\"Gender\"]== \"M\")&(df_clean[\"Marital_Status\"]== \"Single\")]  , x=\"Income_Category\" , y=\"Avg_Open_To_Buy\")"
   ]
  },
  {
   "cell_type": "markdown",
   "id": "9ce2515f-b53e-4824-b3c2-3ca49c773216",
   "metadata": {},
   "source": [
    "Para estratificar los datos tomamos la categoria de ingreso, el numero de dependiente, el nivel de educacion  y su estado civil, de esa manera clasificamos los clientes en diferentes grupos para poder observar el compartamiento de el numero de meses de inactividad y el promedio de la linea de credio abierta en los ultimos 12 meses (Avg_Open_To_Buy)."
   ]
  },
  {
   "cell_type": "code",
   "execution_count": 26,
   "id": "f2cdb9d6-98a6-432f-9722-c387c9fd7157",
   "metadata": {},
   "outputs": [
    {
     "data": {
      "text/plain": [
       "<AxesSubplot:xlabel='Months_Inactive_12_mon', ylabel='Avg_Open_To_Buy'>"
      ]
     },
     "execution_count": 26,
     "metadata": {},
     "output_type": "execute_result"
    },
    {
     "data": {
      "image/png": "[encoded data removed]",
      "text/plain": [
       "<Figure size 432x288 with 1 Axes>"
      ]
     },
     "metadata": {
      "needs_background": "light"
     },
     "output_type": "display_data"
    }
   ],
   "source": [
    "sns.boxplot(data= df_clean.loc[(df_clean[\"Income_Category\"]==\"Less than $40K\")&(df_clean[\"Dependent_count\"]==3)&(df_clean[\"Education_Level\"]==\"Graduate\")&(df_clean[\"Marital_Status\"]==\"Married\"),:] ,x=\"Months_Inactive_12_mon\",y=\"Avg_Open_To_Buy\")"
   ]
  },
  {
   "cell_type": "code",
   "execution_count": 27,
   "id": "697a0999-0daa-43e2-af0e-0686a059b838",
   "metadata": {},
   "outputs": [],
   "source": [
    "dfq1=df_clean.loc[:,[\"Income_Category\",\"Dependent_count\",\"Months_Inactive_12_mon\",\"Marital_Status\",\"Education_Level\",\"Avg_Open_To_Buy\"]].groupby([\"Income_Category\",\"Dependent_count\",\"Months_Inactive_12_mon\",\"Marital_Status\",\"Education_Level\"],as_index=False).quantile(0.25)\n",
    "dfq1.columns=[\"Income_Category\",\"Dependent_count\",\"Months_Inactive_12_mon\",\"Marital_Status\",\"Education_Level\",\"Avg_Open_To_Buy_q1\"]"
   ]
  },
  {
   "cell_type": "code",
   "execution_count": 28,
   "id": "93f64171-de55-4b0e-9e26-8cd5797bc192",
   "metadata": {},
   "outputs": [],
   "source": [
    "dfq3=df_clean.loc[:,[\"Income_Category\",\"Dependent_count\",\"Months_Inactive_12_mon\",\"Marital_Status\",\"Education_Level\",\"Avg_Open_To_Buy\"]].groupby([\"Income_Category\",\"Dependent_count\",\"Months_Inactive_12_mon\",\"Marital_Status\",\"Education_Level\"],as_index=False).quantile(0.75)\n",
    "dfq3.columns=[\"Income_Category\",\"Dependent_count\",\"Months_Inactive_12_mon\",\"Marital_Status\",\"Education_Level\",\"Avg_Open_To_Buy_q3\"]"
   ]
  },
  {
   "cell_type": "code",
   "execution_count": 29,
   "id": "a9bb7f60-7202-42c4-9b0c-200f38ac8dd1",
   "metadata": {},
   "outputs": [],
   "source": [
    "dfq2=df_clean.loc[:,[\"Income_Category\",\"Dependent_count\",\"Months_Inactive_12_mon\",\"Marital_Status\",\"Education_Level\",\"Avg_Open_To_Buy\"]].groupby([\"Income_Category\",\"Dependent_count\",\"Months_Inactive_12_mon\",\"Marital_Status\",\"Education_Level\"],as_index=False).mean()\n",
    "dfq2.columns=[\"Income_Category\",\"Dependent_count\",\"Months_Inactive_12_mon\",\"Marital_Status\",\"Education_Level\",\"Avg_Open_To_Buy_mean\"]"
   ]
  },
  {
   "cell_type": "code",
   "execution_count": 30,
   "id": "ebeeb3e7-284f-4928-94c3-84a8bcaf188b",
   "metadata": {},
   "outputs": [],
   "source": [
    "dfiqr=dfq1.merge(dfq3,on=[\"Income_Category\",\"Dependent_count\",\"Months_Inactive_12_mon\",\"Marital_Status\",\"Education_Level\"],how=\"inner\").merge(dfq2,on=[\"Income_Category\",\"Dependent_count\",\"Months_Inactive_12_mon\",\"Marital_Status\",\"Education_Level\"],how=\"inner\")"
   ]
  },
  {
   "cell_type": "code",
   "execution_count": 31,
   "id": "b103fc40-e61d-49fc-8534-896f55b89fa5",
   "metadata": {},
   "outputs": [],
   "source": [
    "dfiqr[\"iqr\"] = dfiqr.apply( lambda r: r[\"Avg_Open_To_Buy_q3\"] - r[\"Avg_Open_To_Buy_q1\"] , axis = 1)"
   ]
  },
  {
   "cell_type": "code",
   "execution_count": 32,
   "id": "39ac9183-95b9-43a0-bc8b-5e5383da28ec",
   "metadata": {},
   "outputs": [],
   "source": [
    "dfiqr[\"upper_bound_avg\"] = dfiqr.apply( lambda r:  r[\"Avg_Open_To_Buy_q3\"] + (1.5*r[\"iqr\"] ) , axis = 1)\n",
    "dfiqr[\"lower_bound_avg\"] = dfiqr.apply( lambda r:  r[\"Avg_Open_To_Buy_q1\"] - (1.5*r[\"iqr\"] ) , axis = 1)"
   ]
  },
  {
   "cell_type": "code",
   "execution_count": 33,
   "id": "d5a95d82-8822-414e-97a2-48441abc167c",
   "metadata": {},
   "outputs": [],
   "source": [
    "df_final = df_clean.merge( dfiqr , on=[\"Income_Category\",\"Dependent_count\",\"Months_Inactive_12_mon\",\"Marital_Status\",\"Education_Level\"] , how=\"left\" ).copy()"
   ]
  },
  {
   "cell_type": "code",
   "execution_count": 34,
   "id": "1e971f2e-bd65-4f79-ac21-7083e2f025cf",
   "metadata": {},
   "outputs": [],
   "source": [
    "def get_real_avg(r):\n",
    "    if (r[\"Avg_Open_To_Buy\"]<r[\"lower_bound_avg\"]) | (r[\"Avg_Open_To_Buy\"]>r[\"upper_bound_avg\"]):\n",
    "        return r[\"Avg_Open_To_Buy_mean\"]\n",
    "    else:\n",
    "        return r[\"Avg_Open_To_Buy\"]\n",
    "    \n",
    "df_final[\"n_avg_open_to_buy\"]=df_final.apply( lambda r: get_real_avg(r) , axis = 1 )"
   ]
  },
  {
   "cell_type": "code",
   "execution_count": 35,
   "id": "51f92e9a-8f81-487b-8f3c-826c170b79e1",
   "metadata": {},
   "outputs": [
    {
     "data": {
      "text/plain": [
       "<AxesSubplot:xlabel='Months_Inactive_12_mon', ylabel='n_avg_open_to_buy'>"
      ]
     },
     "execution_count": 35,
     "metadata": {},
     "output_type": "execute_result"
    },
    {
     "data": {
      "image/png": "[encoded data removed]",
      "text/plain": [
       "<Figure size 432x288 with 1 Axes>"
      ]
     },
     "metadata": {
      "needs_background": "light"
     },
     "output_type": "display_data"
    }
   ],
   "source": [
    "sns.boxplot(data= df_final.loc[(df_final[\"Income_Category\"]==\"Less than $40K\")&(df_final[\"Dependent_count\"]==3)&(df_final[\"Marital_Status\"]==\"Married\")&(df_final[\"Education_Level\"]==\"Graduate\"),:] ,x=\"Months_Inactive_12_mon\",y=\"n_avg_open_to_buy\")"
   ]
  },
  {
   "cell_type": "markdown",
   "id": "4363279e-e2cc-4dfd-bcdf-63386b09b085",
   "metadata": {},
   "source": [
    "Estratificacion de Limite de Credito\n",
    "Agrupamos los clientes en base a su categoria de tarjeta, sus ingresos y la antiguedad del cliente, esto nos pemitira hacer comparaciones en base a la antiguedad e ingresos de un cliente ya que se esperaria que un cliente con mayor antiguedad y ademas tenga ingresos arriba de 120k tenga un limite de credito mayor a diferencia de un cliente que tiene poca antiguedad y ademas sus ingresos son inferiores a 40k "
   ]
  },
  {
   "cell_type": "code",
   "execution_count": 36,
   "id": "d273295c-e47f-4f9c-8549-c83a71918be8",
   "metadata": {},
   "outputs": [],
   "source": [
    "dfq1 = df_clean.loc[ : , [\"Credit_Limit\",'Income_Category','Months_on_book'] ].groupby( ['Income_Category','Months_on_book'] , as_index = False ).quantile(0.25)\n",
    "dfq1.columns = ['Income_Category','Months_on_book',\"Credit_Limit_q1\"]"
   ]
  },
  {
   "cell_type": "code",
   "execution_count": 37,
   "id": "eb6b7c07-770b-4402-a4db-8fc0accaf3c9",
   "metadata": {},
   "outputs": [],
   "source": [
    "dfq3 = df_clean.loc[ : , [\"Credit_Limit\",'Income_Category','Months_on_book'] ].groupby( ['Income_Category','Months_on_book'], as_index = False ).quantile(0.75)\n",
    "dfq3.columns = ['Income_Category','Months_on_book',\"Credit_Limit_q3\"]"
   ]
  },
  {
   "cell_type": "code",
   "execution_count": 38,
   "id": "5dfc742c-5f56-492e-904e-40d192e63633",
   "metadata": {},
   "outputs": [],
   "source": [
    "dfq2 = df_clean.loc[ : , [\"Credit_Limit\",'Income_Category','Months_on_book'] ].groupby(['Income_Category','Months_on_book']  , as_index = False ).mean()\n",
    "dfq2.columns = ['Income_Category','Months_on_book',\"Credit_Limit_Mean\"]"
   ]
  },
  {
   "cell_type": "code",
   "execution_count": 39,
   "id": "ddc01a1b-265f-4df9-9dad-c07ed9438b8c",
   "metadata": {},
   "outputs": [],
   "source": [
    "dfiqr = dfq1.merge( dfq3 , on=['Income_Category','Months_on_book'], how=\"inner\" ).merge( dfq2 , on=['Income_Category','Months_on_book'], how=\"inner\" )"
   ]
  },
  {
   "cell_type": "code",
   "execution_count": 40,
   "id": "e2ad1197-ce21-4963-a349-e940290d7f20",
   "metadata": {},
   "outputs": [],
   "source": [
    "dfiqr[\"iqr\"] = dfiqr.apply( lambda r: r[\"Credit_Limit_q3\"] - r[\"Credit_Limit_q1\"] , axis = 1)"
   ]
  },
  {
   "cell_type": "code",
   "execution_count": 41,
   "id": "88418dad-f4ed-43a0-9abb-5e44ddf7e2fa",
   "metadata": {},
   "outputs": [],
   "source": [
    "dfiqr[\"upper\"] = dfiqr.apply( lambda r: ( r[\"Credit_Limit_q3\"] + 1.5*r[\"iqr\"] ) , axis = 1)\n",
    "dfiqr[\"lower\"] = dfiqr.apply( lambda r: ( r[\"Credit_Limit_q1\"] - 1.5*r[\"iqr\"] ) , axis = 1)"
   ]
  },
  {
   "cell_type": "code",
   "execution_count": 42,
   "id": "e2896447-0c18-4f27-9ef6-5c8dc4aa2766",
   "metadata": {},
   "outputs": [],
   "source": [
    "df_n = df_clean.merge( dfiqr , how=\"left\" , on=['Income_Category','Months_on_book'])"
   ]
  },
  {
   "cell_type": "code",
   "execution_count": 43,
   "id": "77300116-26f4-43ac-bdde-702682257f72",
   "metadata": {},
   "outputs": [],
   "source": [
    "def getRealPrice(r):\n",
    "    if ( r[\"Credit_Limit\"] <= r[\"lower\"] ) | ( r[\"Credit_Limit\"] >= r[\"upper\"] ):\n",
    "        return r[\"Credit_Limit_Mean\"]\n",
    "    else:\n",
    "        return r[\"Credit_Limit\"]"
   ]
  },
  {
   "cell_type": "code",
   "execution_count": 44,
   "id": "e7199433-9283-4b55-91f6-024acc4afcf7",
   "metadata": {},
   "outputs": [
    {
     "data": {
      "text/plain": [
       "0       12691.000000\n",
       "1        3680.313514\n",
       "2        3418.000000\n",
       "3        3313.000000\n",
       "4        4716.000000\n",
       "            ...     \n",
       "9542     4003.000000\n",
       "9543     4277.000000\n",
       "9544     5409.000000\n",
       "9545     5281.000000\n",
       "9546     3780.929630\n",
       "Length: 9547, dtype: float64"
      ]
     },
     "execution_count": 44,
     "metadata": {},
     "output_type": "execute_result"
    }
   ],
   "source": [
    "df_n.apply( lambda r: getRealPrice(r) , axis = 1 )"
   ]
  },
  {
   "cell_type": "code",
   "execution_count": 45,
   "id": "bafa9faa-2c2d-4b6b-a518-758eb69d8f79",
   "metadata": {},
   "outputs": [],
   "source": [
    "df_n[\"new_Credit_limit\"] = df_n.apply( lambda r: getRealPrice(r) , axis = 1 )"
   ]
  },
  {
   "cell_type": "code",
   "execution_count": 46,
   "id": "cddd11d6-810f-44da-bceb-b5213a683028",
   "metadata": {},
   "outputs": [
    {
     "data": {
      "text/plain": [
       "<AxesSubplot:xlabel='Months_on_book', ylabel='new_Credit_limit'>"
      ]
     },
     "execution_count": 46,
     "metadata": {},
     "output_type": "execute_result"
    },
    {
     "data": {
      "image/png": "[encoded data removed]",
      "text/plain": [
       "<Figure size 432x288 with 1 Axes>"
      ]
     },
     "metadata": {
      "needs_background": "light"
     },
     "output_type": "display_data"
    }
   ],
   "source": [
    "sns.boxplot( data=df_n.loc[(df_n['Card_Category']=='Blue')  & (df_n['Income_Category']=='Less than $40K')  ,:]  , x=\"Months_on_book\" , y=\"new_Credit_limit\" )"
   ]
  },
  {
   "cell_type": "code",
   "execution_count": 47,
   "id": "f8faa24f-5de6-4264-becb-49e4ec6ae6ae",
   "metadata": {},
   "outputs": [
    {
     "data": {
      "text/plain": [
       "<AxesSubplot:xlabel='Income_Category', ylabel='new_Credit_limit'>"
      ]
     },
     "execution_count": 47,
     "metadata": {},
     "output_type": "execute_result"
    },
    {
     "data": {
      "image/png": "[encoded data removed]",
      "text/plain": [
       "<Figure size 432x288 with 1 Axes>"
      ]
     },
     "metadata": {
      "needs_background": "light"
     },
     "output_type": "display_data"
    }
   ],
   "source": [
    "sns.boxplot( data=df_n.loc[(df_n['Card_Category']=='Blue')  & (df_n['Months_on_book']==20)  ,:]  , x=\"Income_Category\" , y=\"new_Credit_limit\" )"
   ]
  },
  {
   "cell_type": "markdown",
   "id": "6e35f2b8-cf3f-469f-93a8-9117e3027f96",
   "metadata": {},
   "source": [
    "Datos Categoricos"
   ]
  },
  {
   "cell_type": "code",
   "execution_count": 48,
   "id": "89792646-2c14-468d-8179-0b213e854a1a",
   "metadata": {},
   "outputs": [
    {
     "data": {
      "text/plain": [
       "Index(['Attrition_Flag', 'Customer_Age', 'Gender', 'Dependent_count',\n",
       "       'Education_Level', 'Marital_Status', 'Income_Category', 'Card_Category',\n",
       "       'Months_on_book', 'Total_Relationship_Count', 'Months_Inactive_12_mon',\n",
       "       'Contacts_Count_12_mon', 'Credit_Limit', 'Total_Revolving_Bal',\n",
       "       'Avg_Open_To_Buy', 'Total_Amt_Chng_Q4_Q1', 'Total_Trans_Amt',\n",
       "       'Total_Trans_Ct', 'Total_Ct_Chng_Q4_Q1', 'Avg_Utilization_Ratio'],\n",
       "      dtype='object')"
      ]
     },
     "execution_count": 48,
     "metadata": {},
     "output_type": "execute_result"
    }
   ],
   "source": [
    "df_clean.columns"
   ]
  },
  {
   "cell_type": "code",
   "execution_count": 49,
   "id": "585e5154-ef9f-4c87-82aa-7060c1d9ef0f",
   "metadata": {},
   "outputs": [],
   "source": [
    "categoricals =['Attrition_Flag', 'Customer_Age', 'Gender',\n",
    "                'Education_Level', 'Marital_Status','Income_Category', 'Card_Category',]"
   ]
  },
  {
   "cell_type": "code",
   "execution_count": 50,
   "id": "699da65a-c5ae-4857-8fa7-5c42020026c2",
   "metadata": {},
   "outputs": [],
   "source": [
    "df_clean1=df_clean.loc[:, categoricals]"
   ]
  },
  {
   "cell_type": "markdown",
   "id": "4c751c04-b0ea-4a20-9efb-6e97a9355da7",
   "metadata": {},
   "source": [
    "Vamos a eliminar las columnas donde los niveles distintos de las variables categoricas representan mas del 0.95"
   ]
  },
  {
   "cell_type": "code",
   "execution_count": 51,
   "id": "18a64ea9-a461-4154-93ff-d8cc59a5e7d1",
   "metadata": {},
   "outputs": [],
   "source": [
    "target = .95\n",
    "\n",
    "columnas_Validas = []\n",
    "columnas_con_muchos_niveles = []\n",
    "columnas_con_1_nivel = []\n",
    "\n",
    "for columns in categoricals:\n",
    "    x = df_clean1.loc[ : , [columns] ].drop_duplicates()\n",
    "    uniquevalues = x.shape[0]\n",
    "    \n",
    "    if uniquevalues == 1:\n",
    "        columnas_con_1_nivel.append(columns)\n",
    "    elif (uniquevalues / df_clean1.shape[0]) > target:\n",
    "        columnas_con_muchos_niveles.append(columns)\n",
    "    else:\n",
    "        columnas_Validas.append(columns)\n",
    "    "
   ]
  },
  {
   "cell_type": "markdown",
   "id": "accf4620-7ef2-495a-a1b8-1c689833d0a7",
   "metadata": {},
   "source": [
    "Para las columnas categóricas vamos encontrar aquellas columnas que tienen mas de un nivel,y que por lo menos uno de esos niveles represente mas o igual del 90%. si se cumple eliminaremos las columnas"
   ]
  },
  {
   "cell_type": "code",
   "execution_count": 52,
   "id": "a2408e27-a114-4815-875c-53113342bd75",
   "metadata": {},
   "outputs": [],
   "source": [
    "target=0.95\n",
    "y=pd.DataFrame()\n",
    "Columns_out= []\n",
    "for c_ in columnas_Validas:\n",
    "    x = df_clean1.loc[ : , [c_] ].drop_duplicates()\n",
    "    uniquevalues = x.shape[0]\n",
    "    y = df_clean1[c_].value_counts()/df_clean1.shape[0]\n",
    "    Porcentaje=y.values[0]\n",
    "    if (uniquevalues > 1 and Porcentaje>=target) :\n",
    "        Columns_out.append(c_)\n",
    "        valid_columns.remove(c_)"
   ]
  },
  {
   "cell_type": "markdown",
   "id": "09aa5492-2325-46b4-beb4-f7618d7d809e",
   "metadata": {},
   "source": [
    "Para las columnas categóricas encontraremos aquellas columnas que tengan entre 2-6 niveles. A los niveles con la frecuencia mas baja lo vamos a remplazar por la palabra Others"
   ]
  },
  {
   "cell_type": "code",
   "execution_count": 53,
   "id": "80180808-269b-4489-9506-05ddb8bab735",
   "metadata": {},
   "outputs": [],
   "source": [
    "valid_columns_two_fourlevels = []\n",
    "for c_ in categoricals:\n",
    "    x = df_clean1.loc[ : , [c_] ].drop_duplicates()\n",
    "    uniquevalues = x.shape[0]\n",
    "    \n",
    "    if uniquevalues >=3 and uniquevalues <=6:\n",
    "        valid_columns_two_fourlevels.append(c_)"
   ]
  },
  {
   "cell_type": "code",
   "execution_count": 54,
   "id": "88be3993-aead-48bc-9fe5-60bfb603f28b",
   "metadata": {},
   "outputs": [
    {
     "data": {
      "text/plain": [
       "['Education_Level', 'Marital_Status', 'Income_Category']"
      ]
     },
     "execution_count": 54,
     "metadata": {},
     "output_type": "execute_result"
    }
   ],
   "source": [
    "valid_columns_two_fourlevels"
   ]
  },
  {
   "cell_type": "markdown",
   "id": "0769e33c-988e-40ac-bae0-2d250d8e10d9",
   "metadata": {},
   "source": [
    "Traducciones de Variable Education Level"
   ]
  },
  {
   "cell_type": "code",
   "execution_count": 55,
   "id": "6a553c45-c28a-4144-9b6c-6401419e92e4",
   "metadata": {},
   "outputs": [],
   "source": [
    "level_frequency=pd.DataFrame()"
   ]
  },
  {
   "cell_type": "code",
   "execution_count": 56,
   "id": "1856382e-21e2-43f7-b51e-ffe5a17785a7",
   "metadata": {},
   "outputs": [],
   "source": [
    "level_frequency['Numero_Datos']= df_clean1['Education_Level'].value_counts()"
   ]
  },
  {
   "cell_type": "code",
   "execution_count": 57,
   "id": "0abcf34b-d532-4ddc-adfb-a0ec995392bb",
   "metadata": {},
   "outputs": [],
   "source": [
    "level_frequency=level_frequency.reset_index()"
   ]
  },
  {
   "cell_type": "code",
   "execution_count": 58,
   "id": "d64cb4bc-fa46-4ae6-9e50-5d7ea6851fa9",
   "metadata": {},
   "outputs": [],
   "source": [
    "level_frequency.columns=('Education_Level','Numero_Datos')"
   ]
  },
  {
   "cell_type": "code",
   "execution_count": 60,
   "id": "7d131623-a1f7-44b8-a1c3-49a6e5d8f39c",
   "metadata": {},
   "outputs": [],
   "source": [
    "level_frequency['Porcentaje']=level_frequency['Numero_Datos']/df_clean1.shape[0]"
   ]
  },
  {
   "cell_type": "code",
   "execution_count": 61,
   "id": "283544ec-2b3a-42cb-9268-fe1cb18d7998",
   "metadata": {},
   "outputs": [],
   "source": [
    "level_frequency=level_frequency.sort_values(['Porcentaje'], ascending=False)"
   ]
  },
  {
   "cell_type": "code",
   "execution_count": 62,
   "id": "cb022468-3786-4b10-bb63-9f54ac13d9ac",
   "metadata": {},
   "outputs": [],
   "source": [
    "level_frequency['nEducation_Level']='Others'"
   ]
  },
  {
   "cell_type": "code",
   "execution_count": 63,
   "id": "3a6df092-ae45-4009-b261-23b7a04f10a1",
   "metadata": {},
   "outputs": [],
   "source": [
    "min_value=0.208023"
   ]
  },
  {
   "cell_type": "code",
   "execution_count": 64,
   "id": "2136927d-b31e-411a-a5f1-41cbd013d89c",
   "metadata": {},
   "outputs": [],
   "source": [
    "level_frequency['nEducation_Level']=level_frequency.apply( lambda r: r[\"Education_Level\"] if r[\"Porcentaje\"] >min_value else r[\"nEducation_Level\"] , axis = 1 )"
   ]
  },
  {
   "cell_type": "code",
   "execution_count": 65,
   "id": "68c6829e-abc2-4512-87a1-eb7ce7ab6ea2",
   "metadata": {},
   "outputs": [],
   "source": [
    "level_frequency_Education=level_frequency.loc[:, ['Education_Level','nEducation_Level']]"
   ]
  },
  {
   "cell_type": "code",
   "execution_count": 66,
   "id": "4dd17c0e-d7b0-4017-904c-beae222327bc",
   "metadata": {},
   "outputs": [],
   "source": [
    "level_frequency_Education.to_csv('nEducation_level.csv')"
   ]
  },
  {
   "cell_type": "markdown",
   "id": "5cc1ee84-abf3-4827-bee6-61476abf8935",
   "metadata": {},
   "source": [
    "Traducciones de variable Income Category"
   ]
  },
  {
   "cell_type": "code",
   "execution_count": 67,
   "id": "20f0ec66-4eae-470f-9d1f-9f2eb75b796d",
   "metadata": {},
   "outputs": [],
   "source": [
    "level_frequency=pd.DataFrame()"
   ]
  },
  {
   "cell_type": "code",
   "execution_count": 68,
   "id": "53d99660-618a-4640-9a36-cf1463c7160c",
   "metadata": {},
   "outputs": [],
   "source": [
    "level_frequency['Numero_Datos']= df_clean1['Income_Category'].value_counts()"
   ]
  },
  {
   "cell_type": "code",
   "execution_count": 69,
   "id": "00489957-c171-4d5e-9790-927fbc12e4f2",
   "metadata": {},
   "outputs": [],
   "source": [
    "level_frequency=level_frequency.reset_index()"
   ]
  },
  {
   "cell_type": "code",
   "execution_count": 70,
   "id": "8e1cba60-4c0b-4088-9bb7-8d27fefd277e",
   "metadata": {},
   "outputs": [],
   "source": [
    "level_frequency.columns=('Income_Category','Numero_Datos')"
   ]
  },
  {
   "cell_type": "code",
   "execution_count": 71,
   "id": "d74c62ae-179c-4c6e-a685-d49684ff9e23",
   "metadata": {},
   "outputs": [],
   "source": [
    "level_frequency['Porcentaje']=level_frequency['Numero_Datos']/df_clean.shape[0]"
   ]
  },
  {
   "cell_type": "code",
   "execution_count": 72,
   "id": "7b73b9a4-0cc6-4a94-8176-ad5b32fc46f9",
   "metadata": {},
   "outputs": [],
   "source": [
    "level_frequency=level_frequency.sort_values(['Porcentaje'], ascending=False)"
   ]
  },
  {
   "cell_type": "code",
   "execution_count": 73,
   "id": "8026f7b1-f51e-496a-966a-cc3d3872cd4e",
   "metadata": {},
   "outputs": [],
   "source": [
    "level_frequency['nIncome_Category']='Others'"
   ]
  },
  {
   "cell_type": "code",
   "execution_count": 74,
   "id": "77071b05-3bec-41b6-8a04-c0ca19f3c6b2",
   "metadata": {},
   "outputs": [],
   "source": [
    "min_value=level_frequency['Porcentaje'][2]"
   ]
  },
  {
   "cell_type": "code",
   "execution_count": 75,
   "id": "29e6273c-52b7-4627-9ed7-47d890100e20",
   "metadata": {},
   "outputs": [],
   "source": [
    "level_frequency['nIncome_Category']=level_frequency.apply( lambda r: r[\"Income_Category\"] if r[\"Porcentaje\"] > min_value else r[\"nIncome_Category\"] , axis = 1 )"
   ]
  },
  {
   "cell_type": "code",
   "execution_count": 76,
   "id": "93d66a3e-69db-478a-a0fd-5f757bfd6adb",
   "metadata": {},
   "outputs": [],
   "source": [
    "level_frequency_Income_Category=level_frequency.loc[:, ['Income_Category','nIncome_Category']]"
   ]
  },
  {
   "cell_type": "code",
   "execution_count": 77,
   "id": "898442e6-4297-464e-a36d-bf3304573caa",
   "metadata": {},
   "outputs": [],
   "source": [
    "level_frequency_Income_Category.to_csv('Income_Category_Status.csv')"
   ]
  },
  {
   "cell_type": "markdown",
   "id": "d22a83a3-9798-420a-83a7-df7d0c17aeef",
   "metadata": {},
   "source": [
    "Traducciones de variable Marital Status"
   ]
  },
  {
   "cell_type": "code",
   "execution_count": 78,
   "id": "0a9b917e-d6c9-4122-910d-87de513b0b29",
   "metadata": {},
   "outputs": [],
   "source": [
    "level_frequency=pd.DataFrame()"
   ]
  },
  {
   "cell_type": "code",
   "execution_count": 80,
   "id": "d65f5632-053d-4111-b7e1-b12c0b436879",
   "metadata": {},
   "outputs": [],
   "source": [
    "level_frequency['Numero_Datos']= df_clean1['Marital_Status'].value_counts()"
   ]
  },
  {
   "cell_type": "code",
   "execution_count": 81,
   "id": "01ef3f42-702b-41c8-af42-50c04f522482",
   "metadata": {},
   "outputs": [],
   "source": [
    "level_frequency=level_frequency.reset_index()"
   ]
  },
  {
   "cell_type": "code",
   "execution_count": 82,
   "id": "757816cf-6c25-4dba-b446-e7f21b2ec67a",
   "metadata": {},
   "outputs": [],
   "source": [
    "level_frequency.columns=('Marital_Status','Numero_Datos')"
   ]
  },
  {
   "cell_type": "code",
   "execution_count": 83,
   "id": "d0f638f4-82f3-4efb-9dd7-5238bf1b357f",
   "metadata": {},
   "outputs": [],
   "source": [
    "level_frequency['Porcentaje']=level_frequency['Numero_Datos']/df_clean1.shape[0]"
   ]
  },
  {
   "cell_type": "code",
   "execution_count": 84,
   "id": "9aff84c3-b2a0-4678-944a-0dc55b495a2d",
   "metadata": {},
   "outputs": [],
   "source": [
    "level_frequency=level_frequency.sort_values(['Porcentaje'], ascending=False)"
   ]
  },
  {
   "cell_type": "code",
   "execution_count": 85,
   "id": "af554353-3cd4-41e1-a159-00d985ef87a5",
   "metadata": {},
   "outputs": [],
   "source": [
    "level_frequency['nMarital_Status']='Others'"
   ]
  },
  {
   "cell_type": "code",
   "execution_count": 86,
   "id": "9e1762d7-011b-465c-8590-87b076e7ee6f",
   "metadata": {},
   "outputs": [],
   "source": [
    "min_value=level_frequency['Porcentaje'][1]"
   ]
  },
  {
   "cell_type": "code",
   "execution_count": 88,
   "id": "accc6166-3eea-47c4-92e0-8c7acd2ad386",
   "metadata": {},
   "outputs": [],
   "source": [
    "level_frequency['nMarital_Status']=level_frequency.apply( lambda r: r[\"Marital_Status\"] if r[\"Porcentaje\"] >min_value else r[\"nMarital_Status\"] , axis = 1)"
   ]
  },
  {
   "cell_type": "code",
   "execution_count": 89,
   "id": "5aa0c3a0-8cb3-4874-8f39-a33639030e97",
   "metadata": {},
   "outputs": [],
   "source": [
    "level_frequency_Marital_Status=level_frequency.loc[:, ['Marital_Status','nMarital_Status']]"
   ]
  },
  {
   "cell_type": "code",
   "execution_count": 90,
   "id": "bbe7e4bb-027a-4f2b-86b0-c56fdc3550e5",
   "metadata": {},
   "outputs": [],
   "source": [
    "level_frequency_Marital_Status.to_csv('nMarital_Status.csv')"
   ]
  },
  {
   "cell_type": "code",
   "execution_count": null,
   "id": "e201aa69-8045-44ab-b429-9275c3d43aa1",
   "metadata": {},
   "outputs": [],
   "source": []
  }
 ],
 "metadata": {
  "kernelspec": {
   "display_name": "Python 3 (ipykernel)",
   "language": "python",
   "name": "python3"
  },
  "language_info": {
   "codemirror_mode": {
    "name": "ipython",
    "version": 3
   },
   "file_extension": ".py",
   "mimetype": "text/x-python",
   "name": "python",
   "nbconvert_exporter": "python",
   "pygments_lexer": "ipython3",
   "version": "3.9.12"
  }
 },
 "nbformat": 4,
 "nbformat_minor": 5
}
